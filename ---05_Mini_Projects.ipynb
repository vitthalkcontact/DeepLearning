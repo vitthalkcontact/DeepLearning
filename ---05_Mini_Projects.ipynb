{
 "cells": [
  {
   "attachments": {
    "image.png": {
     "image/png": "[encoded data removed]"
    }
   },
   "cell_type": "markdown",
   "metadata": {
    "ExecuteTime": {
     "end_time": "2018-09-16T02:45:50.231317Z",
     "start_time": "2018-09-16T02:45:50.215717Z"
    }
   },
   "source": [
    "Python OpenCV2 by Vitthal ![image.png](attachment:image.png)"
   ]
  },
  {
   "cell_type": "code",
   "execution_count": 1,
   "metadata": {
    "ExecuteTime": {
     "end_time": "2018-09-22T16:48:57.696763Z",
     "start_time": "2018-09-22T16:48:57.681163Z"
    }
   },
   "outputs": [],
   "source": [
    "import cv2\n",
    "import numpy as np\n",
    "import matplotlib.pyplot as plt"
   ]
  },
  {
   "cell_type": "markdown",
   "metadata": {
    "ExecuteTime": {
     "end_time": "2018-09-16T02:47:13.027617Z",
     "start_time": "2018-09-16T02:47:12.767617Z"
    }
   },
   "source": [
    "### 1. Adding two images by performing bitwise operation"
   ]
  },
  {
   "cell_type": "code",
   "execution_count": 6,
   "metadata": {
    "ExecuteTime": {
     "end_time": "2018-09-23T02:08:25.340000Z",
     "start_time": "2018-09-23T02:08:22.227500Z"
    }
   },
   "outputs": [
    {
     "data": {
      "text/plain": [
       "(363, 573, 3)"
      ]
     },
     "execution_count": 6,
     "metadata": {},
     "output_type": "execute_result"
    }
   ],
   "source": [
    "img = cv2.imread(\"candies.png\")\n",
    "logo = cv2.imread(\"pylogo.png\")\n",
    "rows,cols,channels = logo.shape # Get exact rows and cols in logo image\n",
    "roi = img[0:rows,0:cols] # Using rows and cols, define the ROI(region of interest) in main image\n",
    "\n",
    "img2Gray = cv2.cvtColor(logo,cv2.COLOR_BGR2GRAY)\n",
    "retVal,mask = cv2.threshold(img2Gray,220,255,cv2.THRESH_BINARY_INV) # _INV is required to make 0 to 1 and 1 to 0\n",
    "                                                                    #so that in whhite area exact logo will fit in\n",
    "mask_inv = cv2.bitwise_not(mask)\n",
    "img_bg = cv2.bitwise_and(roi,roi,mask=mask_inv)\n",
    "img_fg = cv2.bitwise_and(logo,logo,mask=mask)\n",
    "\n",
    "dst = cv2.add(img_bg,img_fg)\n",
    "img[0:rows,0:cols] = dst\n",
    "\n",
    "cv2.imshow(\"gray\",img2Gray)\n",
    "cv2.imshow(\"mask\",mask)\n",
    "cv2.imshow(\"res\",img)\n",
    "cv2.waitKey(0)\n",
    "cv2.destroyAllWindows()"
   ]
  },
  {
   "cell_type": "markdown",
   "metadata": {
    "ExecuteTime": {
     "end_time": "2018-09-16T02:47:13.027617Z",
     "start_time": "2018-09-16T02:47:12.767617Z"
    }
   },
   "source": [
    "### 2. Template_Matching_objectDetection"
   ]
  },
  {
   "cell_type": "code",
   "execution_count": 9,
   "metadata": {
    "ExecuteTime": {
     "end_time": "2018-09-23T02:08:36.217000Z",
     "start_time": "2018-09-23T02:08:30.229000Z"
    }
   },
   "outputs": [
    {
     "name": "stdout",
     "output_type": "stream",
     "text": [
      "(array([  3,   3,   3,   3,   5,  14,  15,  21,  25,  27,  28,  33,  34,\n",
      "        45,  46,  51,  52,  57,  58,  69,  70,  79,  81,  82,  82, 100,\n",
      "       100, 118, 118, 122, 124, 124, 129, 130, 136, 136, 138, 148, 148,\n",
      "       149, 149, 154, 155, 159, 162, 178, 179, 179, 191, 197, 197, 197,\n",
      "       197, 197, 197, 197, 207, 220, 221, 223, 224, 237, 265, 265, 271,\n",
      "       271, 274, 293, 293, 293, 294, 294, 294, 294, 294, 310, 318, 319,\n",
      "       324, 324], dtype=int64), array([290, 291, 330, 331, 158, 198, 198, 328, 692,  64,  64, 373, 373,\n",
      "        62, 563, 712, 712, 667, 667, 103, 103, 646, 718, 676, 718,  60,\n",
      "        61, 666, 704, 151,  60,  61, 560, 412, 473, 474,  95, 709, 710,\n",
      "       709, 710, 415, 415, 577, 554, 213, 213, 252, 478, 170, 171, 189,\n",
      "       213, 252, 415, 416, 328, 477, 477, 486, 357, 581, 476, 477, 576,\n",
      "       577, 503, 185, 272, 273, 185, 239, 240, 272, 273, 148, 266, 232,\n",
      "       629, 630], dtype=int64))\n",
      "(290, 3)\n",
      "(291, 3)\n",
      "(330, 3)\n",
      "(331, 3)\n",
      "(158, 5)\n",
      "(198, 14)\n",
      "(198, 15)\n",
      "(328, 21)\n",
      "(692, 25)\n",
      "(64, 27)\n",
      "(64, 28)\n",
      "(373, 33)\n",
      "(373, 34)\n",
      "(62, 45)\n",
      "(563, 46)\n",
      "(712, 51)\n",
      "(712, 52)\n",
      "(667, 57)\n",
      "(667, 58)\n",
      "(103, 69)\n",
      "(103, 70)\n",
      "(646, 79)\n",
      "(718, 81)\n",
      "(676, 82)\n",
      "(718, 82)\n",
      "(60, 100)\n",
      "(61, 100)\n",
      "(666, 118)\n",
      "(704, 118)\n",
      "(151, 122)\n",
      "(60, 124)\n",
      "(61, 124)\n",
      "(560, 129)\n",
      "(412, 130)\n",
      "(473, 136)\n",
      "(474, 136)\n",
      "(95, 138)\n",
      "(709, 148)\n",
      "(710, 148)\n",
      "(709, 149)\n",
      "(710, 149)\n",
      "(415, 154)\n",
      "(415, 155)\n",
      "(577, 159)\n",
      "(554, 162)\n",
      "(213, 178)\n",
      "(213, 179)\n",
      "(252, 179)\n",
      "(478, 191)\n",
      "(170, 197)\n",
      "(171, 197)\n",
      "(189, 197)\n",
      "(213, 197)\n",
      "(252, 197)\n",
      "(415, 197)\n",
      "(416, 197)\n",
      "(328, 207)\n",
      "(477, 220)\n",
      "(477, 221)\n",
      "(486, 223)\n",
      "(357, 224)\n",
      "(581, 237)\n",
      "(476, 265)\n",
      "(477, 265)\n",
      "(576, 271)\n",
      "(577, 271)\n",
      "(503, 274)\n",
      "(185, 293)\n",
      "(272, 293)\n",
      "(273, 293)\n",
      "(185, 294)\n",
      "(239, 294)\n",
      "(240, 294)\n",
      "(272, 294)\n",
      "(273, 294)\n",
      "(148, 310)\n",
      "(266, 318)\n",
      "(232, 319)\n",
      "(629, 324)\n",
      "(630, 324)\n"
     ]
    }
   ],
   "source": [
    "pcb = cv2.imread(\"pcb_layout.png\")\n",
    "pcb_gray = cv2.cvtColor(pcb,cv2.COLOR_BGR2GRAY)\n",
    "pcb_temp = cv2.imread(\"pcb_template.png\",0)\n",
    "w,h = pcb_temp.shape[::-1] # Reversing to get the width (columns) first and height (height)\n",
    "\n",
    "res = cv2.matchTemplate(pcb_gray,pcb_temp,cv2.TM_CCOEFF_NORMED)\n",
    "# print(res)\n",
    "threshold = .58\n",
    "loc = np.where(res>=threshold)\n",
    "print(loc)\n",
    "total = len(loc[0]) # get the count of total occurences\n",
    "for pt in zip(*loc[::-1]): # Unzip co-ordinates and draw rectangles over found template\n",
    "    print(pt)\n",
    "    cv2.rectangle(pcb,pt,(pt[0]+w,pt[1]+h),(0,0,255),1)\n",
    "    \n",
    "cv2.putText(pcb,\"Total::\"+str(total),(10,20),cv2.FONT_HERSHEY_PLAIN,1,(0,0,255),1) # str casting is required for text`\n",
    "cv2.imshow(\"pcb\",pcb)\n",
    "\n",
    "cv2.waitKey(0)\n",
    "cv2.destroyAllWindows()"
   ]
  },
  {
   "cell_type": "markdown",
   "metadata": {},
   "source": [
    "### 3. Face_Eye_Detection over Human body"
   ]
  },
  {
   "cell_type": "code",
   "execution_count": 12,
   "metadata": {
    "ExecuteTime": {
     "end_time": "2018-09-22T16:49:05.587763Z",
     "start_time": "2018-09-22T16:49:05.478563Z"
    }
   },
   "outputs": [],
   "source": [
    "# https://github.com/opencv/opencv/tree/master/data/haarcascades\n",
    "face_cascade = cv2.CascadeClassifier(\"haarcascade_frontalface_default.xml\")\n",
    "eye_cascade = cv2.CascadeClassifier(\"haarcascade_eye.xml\")"
   ]
  },
  {
   "cell_type": "code",
   "execution_count": 14,
   "metadata": {
    "ExecuteTime": {
     "end_time": "2018-09-22T17:35:30.780980Z",
     "start_time": "2018-09-22T17:35:21.217780Z"
    }
   },
   "outputs": [],
   "source": [
    "cap = cv2.VideoCapture(0)\n",
    "\n",
    "while True:\n",
    "    ret,img = cap.read()\n",
    "    if ret == True:\n",
    "        gray = cv2.cvtColor(img,cv2.COLOR_BGR2GRAY)\n",
    "    else:\n",
    "        print ('cannot read frame')\n",
    "    faces = face_cascade.detectMultiScale(gray,1.3,5)\n",
    "    for (x,y,w,h) in faces:\n",
    "        cv2.rectangle(img,(x,y),(x+w,y+h),(255,0,0,),3)\n",
    "        roi_gray = gray[y:y+h,x:x+w]\n",
    "        roi_color = img[y:y+h,x:x+w]\n",
    "        eyes = eye_cascade.detectMultiScale(roi_gray)\n",
    "        for (ex,ey,ew,eh) in eyes:\n",
    "            cv2.rectangle(roi_color,(ex,ey),(ex+ew,ey+eh),(0,255,0,),2)\n",
    "    cv2.imshow(\"image\",img)\n",
    "    if cv2.waitKey(1) & 0xFF == ord(\"q\"):\n",
    "        break\n",
    "cap.release()\n",
    "cv2.destroyAllWindows()"
   ]
  },
  {
   "cell_type": "markdown",
   "metadata": {
    "ExecuteTime": {
     "end_time": "2018-09-23T02:12:50.500400Z",
     "start_time": "2018-09-23T02:12:50.480400Z"
    }
   },
   "source": [
    "### 4. Open video using webCam, record and save to file"
   ]
  },
  {
   "cell_type": "code",
   "execution_count": 15,
   "metadata": {
    "ExecuteTime": {
     "end_time": "2018-09-23T02:22:45.962600Z",
     "start_time": "2018-09-23T02:22:38.880100Z"
    }
   },
   "outputs": [],
   "source": [
    "cap = cv2.VideoCapture(0)\n",
    "fourcc = cv2.VideoWriter_fourcc(*\"XVID\")\n",
    "out = cv2.VideoWriter(\"output.avi\",fourcc,20.0,(640,480)) # 20.0 = fps\n",
    "while True:\n",
    "    ret,frame = cap.read()\n",
    "    gray = cv2.cvtColor(frame,cv2.COLOR_BGR2GRAY)\n",
    "    out.write(frame)\n",
    "    cv2.imshow(\"fame\",frame)\n",
    "    cv2.imshow(\"fame_gray\",gray)\n",
    "    if cv2.waitKey(1) & 0xFF == ord(\"q\"):\n",
    "        break\n",
    "cap.release()\n",
    "out.release()\n",
    "cv2.destroyAllWindows()"
   ]
  },
  {
   "cell_type": "code",
   "execution_count": null,
   "metadata": {},
   "outputs": [],
   "source": []
  }
 ],
 "metadata": {
  "kernelspec": {
   "display_name": "Python 3",
   "language": "python",
   "name": "python3"
  },
  "language_info": {
   "codemirror_mode": {
    "name": "ipython",
    "version": 3
   },
   "file_extension": ".py",
   "mimetype": "text/x-python",
   "name": "python",
   "nbconvert_exporter": "python",
   "pygments_lexer": "ipython3",
   "version": "3.7.4"
  },
  "varInspector": {
   "cols": {
    "lenName": 16,
    "lenType": 16,
    "lenVar": 40
   },
   "kernels_config": {
    "python": {
     "delete_cmd_postfix": "",
     "delete_cmd_prefix": "del ",
     "library": "var_list.py",
     "varRefreshCmd": "print(var_dic_list())"
    },
    "r": {
     "delete_cmd_postfix": ") ",
     "delete_cmd_prefix": "rm(",
     "library": "var_list.r",
     "varRefreshCmd": "cat(var_dic_list()) "
    }
   },
   "types_to_exclude": [
    "module",
    "function",
    "builtin_function_or_method",
    "instance",
    "_Feature"
   ],
   "window_display": false
  }
 },
 "nbformat": 4,
 "nbformat_minor": 4
}
