{
 "cells": [
  {
   "cell_type": "code",
   "execution_count": 1,
   "metadata": {},
   "outputs": [],
   "source": [
    "import numpy as np\n",
    "import cv2 as cv\n",
    "import matplotlib.pyplot as plt\n",
    "# len(dir(cv))"
   ]
  },
  {
   "cell_type": "code",
   "execution_count": 2,
   "metadata": {},
   "outputs": [
    {
     "data": {
      "text/plain": [
       "(85, 85, 3)"
      ]
     },
     "execution_count": 2,
     "metadata": {},
     "output_type": "execute_result"
    }
   ],
   "source": [
    "img = cv.imread(\"pylogo.png\")\n",
    "img.shape"
   ]
  },
  {
   "cell_type": "code",
   "execution_count": null,
   "metadata": {},
   "outputs": [],
   "source": [
    "cv.imshow(\"PyLogo\",img)\n",
    "cv.waitKey(0)\n",
    "cv.destroyAllWindows()"
   ]
  },
  {
   "cell_type": "code",
   "execution_count": null,
   "metadata": {},
   "outputs": [],
   "source": [
    "img = img[::-1,:,::-1]\n",
    "plt.imshow(img)\n",
    "plt.show()"
   ]
  },
  {
   "cell_type": "code",
   "execution_count": null,
   "metadata": {},
   "outputs": [],
   "source": [
    "cv.imwrite(\"pylogo_new.jpg\",img)"
   ]
  },
  {
   "cell_type": "code",
   "execution_count": null,
   "metadata": {},
   "outputs": [],
   "source": [
    "RGB = cv.imread(\"lena.png\")\n",
    "RGB = RGB[:,:,::-1]\n",
    "GRY = cv.imread(\"lena.png\",0)\n",
    "# GRY = RGB[:,:,::-1]\n",
    "plt.figure(figsize=(10,4))\n",
    "plt.subplot(2,2,1),plt.imshow(RGB)\n",
    "plt.subplot(2,2,2),plt.imshow(GRY,\"gray\")\n",
    "plt.show()"
   ]
  },
  {
   "cell_type": "markdown",
   "metadata": {},
   "source": [
    "# Filter R,G and Green channels from lena.png and plot them separately"
   ]
  },
  {
   "cell_type": "code",
   "execution_count": null,
   "metadata": {},
   "outputs": [],
   "source": [
    "RGB = cv.imread(\"lena.png\")\n",
    "B = RGB[:,:,0] \n",
    "G = RGB[:,:,1] \n",
    "R = RGB[:,:,2] \n",
    "plt.figure(figsize=(10,4))\n",
    "plt.subplot(1,3,1),plt.imshow(B)\n",
    "plt.subplot(1,3,2),plt.imshow(G)\n",
    "plt.subplot(1,3,3),plt.imshow(R)\n",
    "plt.show()"
   ]
  },
  {
   "cell_type": "code",
   "execution_count": null,
   "metadata": {
    "scrolled": true
   },
   "outputs": [],
   "source": [
    "RGB = cv.imread(\"lena.png\")\n",
    "B,G,R = cv.split(RGB)\n",
    "plt.figure(figsize=(10,4))\n",
    "plt.subplot(1,3,1),plt.imshow(B)\n",
    "plt.subplot(1,3,2),plt.imshow(G)\n",
    "plt.subplot(1,3,3),plt.imshow(R)\n",
    "plt.show()"
   ]
  },
  {
   "cell_type": "code",
   "execution_count": null,
   "metadata": {},
   "outputs": [],
   "source": [
    "RGB = cv.imread(\"lena.png\")\n",
    "B = RGB[:,:,0] \n",
    "G = RGB[:,:,1] \n",
    "R = RGB[:,:,2] \n",
    "plt.figure(figsize=(10,4))\n",
    "# full_img = B+G+R\n",
    "full_img = cv.merge([R,G,B])\n",
    "plt.subplot(1,3,3),plt.imshow(full_img)\n",
    "plt.show()"
   ]
  },
  {
   "cell_type": "markdown",
   "metadata": {},
   "source": [
    "# Flip the above image with 180 deg upside down\n",
    "- Flip the middle image which is having pixel values between 75 150"
   ]
  },
  {
   "cell_type": "code",
   "execution_count": null,
   "metadata": {},
   "outputs": [],
   "source": [
    "BGR = cv.imread(\"lena.png\")\n",
    "plt.figure(figsize=(10,4))\n",
    "V90 = BGR[:,::-1,:]\n",
    "H90 = BGR[::-1,:,:]\n",
    "plt.subplot(1,2,1),plt.imshow(V90[:,:,::-1])\n",
    "plt.subplot(1,2,2),plt.imshow(H90[:,:,::-1])\n",
    "plt.show()"
   ]
  },
  {
   "cell_type": "code",
   "execution_count": null,
   "metadata": {},
   "outputs": [],
   "source": [
    "BGR = cv.imread(\"lena.png\")\n",
    "plt.figure(figsize=(10,4))\n",
    "ROI = BGR[75:150,:,:]\n",
    "ROI = ROI[::-1]\n",
    "BGR[75:150,:,:] = ROI\n",
    "plt.imshow(BGR[:,:,::-1])\n",
    "plt.show()"
   ]
  },
  {
   "cell_type": "code",
   "execution_count": null,
   "metadata": {},
   "outputs": [],
   "source": [
    "cap = cv.VideoCapture(0) # Generate an instance of VideoCapture(). 0 = webcam of PC/laptop. \n",
    "                         # Change the numnber based on number of camera installed in PC\n",
    "while True:\n",
    "    ret,frame = cap.read() # Will keep reading frames and Rettun true if frames available\n",
    "    gray = cv.cvtColor(frame,cv.COLOR_BGR2RGB)\n",
    "    cv.imshow(\"fame\",frame)\n",
    "    cv.imshow(\"fame_gray\",gray)\n",
    "    if cv.waitKey(1) & 0xFF == ord(\"q\"):\n",
    "        break\n",
    "cap.release()\n",
    "cv.destroyAllWindows()"
   ]
  },
  {
   "cell_type": "code",
   "execution_count": null,
   "metadata": {},
   "outputs": [],
   "source": []
  }
 ],
 "metadata": {
  "kernelspec": {
   "display_name": "Python 3",
   "language": "python",
   "name": "python3"
  },
  "language_info": {
   "codemirror_mode": {
    "name": "ipython",
    "version": 3
   },
   "file_extension": ".py",
   "mimetype": "text/x-python",
   "name": "python",
   "nbconvert_exporter": "python",
   "pygments_lexer": "ipython3",
   "version": "3.7.4"
  }
 },
 "nbformat": 4,
 "nbformat_minor": 4
}
